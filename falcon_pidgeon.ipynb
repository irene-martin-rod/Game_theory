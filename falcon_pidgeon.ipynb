{
 "cells": [
  {
   "cell_type": "markdown",
   "metadata": {},
   "source": [
    "FALCON VS PIDGEON"
   ]
  },
  {
   "cell_type": "code",
   "execution_count": 4,
   "metadata": {},
   "outputs": [],
   "source": [
    "import random"
   ]
  },
  {
   "cell_type": "code",
   "execution_count": 5,
   "metadata": {},
   "outputs": [],
   "source": [
    "#Options for users and computer\n",
    "options = (\"falcon\", \"pidgeon\")"
   ]
  },
  {
   "cell_type": "code",
   "execution_count": 6,
   "metadata": {},
   "outputs": [],
   "source": [
    "#create variables for total user and computer points and for echar rounds\n",
    "player_points = 0\n",
    "computer_points = 0\n",
    "\n",
    "player_points_round = 0\n",
    "computer_points_round = 0"
   ]
  },
  {
   "cell_type": "code",
   "execution_count": 7,
   "metadata": {},
   "outputs": [],
   "source": [
    "#Variable with the number of the round\n",
    "round = 1"
   ]
  },
  {
   "cell_type": "code",
   "execution_count": 8,
   "metadata": {},
   "outputs": [],
   "source": [
    "#Puntuation\n",
    "P = 10\n",
    "H = 5\n",
    "T = 2"
   ]
  },
  {
   "cell_type": "code",
   "execution_count": 9,
   "metadata": {},
   "outputs": [
    {
     "name": "stdout",
     "output_type": "stream",
     "text": [
      "####################\n",
      "WELCOME TO FALCON VS. PIDGEON\n",
      "####################\n"
     ]
    }
   ],
   "source": [
    "print(\"#\" * 20)\n",
    "print(\"WELCOME TO FALCON VS. PIDGEON\")\n",
    "print(\"#\" * 20)"
   ]
  },
  {
   "cell_type": "code",
   "execution_count": 10,
   "metadata": {},
   "outputs": [
    {
     "name": "stdout",
     "output_type": "stream",
     "text": [
      "\n",
      "**********\n",
      "ROUND 1\n",
      "**********\n",
      "TOTAL PLAYER POINTS = 0\n",
      "TOTAL COMPUTER POINTS = 0\n"
     ]
    }
   ],
   "source": [
    "#Now we stablish the rules of the play\n",
    "while True:\n",
    "    print (\"\")\n",
    "    print (\"*\" * 10)\n",
    "    print (\"ROUND\", round)\n",
    "    print (\"*\" * 10)\n",
    "\n",
    "    print (\"TOTAL PLAYER POINTS =\", player_points)\n",
    "    print (\"TOTAL COMPUTER POINTS =\", computer_points)\n",
    "\n",
    "    player_option = input (\"Falcon or pidgeon?:\")\n",
    "    player_option = player_option.lower () \n",
    "    if not player_option in options:\n",
    "        print (\"This is not a valid option\")\n",
    "        continue \n",
    "\n",
    "    computer_option = random.choice (options) \n",
    "\n",
    "    if player_option == \"falcon\":\n",
    "        if computer_option == \"falcon\":\n",
    "            print (\"Falcon vs falcon\")\n",
    "            player_points_round = ((P-H)/2)\n",
    "            computer_points_round = ((P-H)/2)\n",
    "            print (\"Draw\")\n",
    "            print (\"ROUND PLAYER POINTS= \", player_points_round)\n",
    "            print (\"ROUND COMPUTER POINTS= \", computer_points_round)\n",
    "            player_points = player_points + player_points_round\n",
    "            computer_points = computer_points + computer_points_round \n",
    "\n",
    "        else: \n",
    "            print == (\"Falcon vs. pidgeon\")\n",
    "            print (\"Falcon wins pidgeon\")\n",
    "            player_points_round = P\n",
    "            print (\"Player wins this round\")\n",
    "            print (\"ROUND PLAYER POINTS= \", player_points_round)\n",
    "            print (\"ROUND COMPUTER POINTS= \", computer_points_round)\n",
    "            player_points = player_points + player_points_round\n",
    "            computer_points = computer_points + computer_points_round \n",
    "            \n",
    "    elif player_option == \"pidgeon\":\n",
    "        if computer_option == \"falcon\":\n",
    "            print (\"Pidgeon vs. falcon\")\n",
    "            print (\"Falcon wins pidgeon\")\n",
    "            computer_points_round = P\n",
    "            print (\"Computer wins this round\")\n",
    "            print (\"ROUND PLAYER POINTS= \", player_points_round)\n",
    "            print (\"ROUND COMPUTER POINTS= \", computer_points_round)\n",
    "            player_points = player_points + player_points_round\n",
    "            computer_points = computer_points + computer_points_round \n",
    "            \n",
    "        else:\n",
    "            print (\"Pidgeon vs. pidgeon\")\n",
    "            player_points_round = ((P-2*T)/2)\n",
    "            computer_points_round = ((P-2*T)/2)\n",
    "            print (\"Draw\")\n",
    "            print (\"ROUND PLAYER POINTS= \", player_points_round)\n",
    "            print (\"ROUND COMPUTER POINTS= \", computer_points_round)\n",
    "            player_points = player_points + player_points_round\n",
    "            computer_points = computer_points + computer_points_round \n",
    "       \n",
    "    \n",
    "\n",
    "#Create a condition to break the loop\n",
    "    if computer_points >= 20:\n",
    "        if player_points < 20: \n",
    "            print (\"TOTAL PLAYER POINTS =\", player_points)\n",
    "            print (\"TOTAL COMPUTER POINTS =\", computer_points)\n",
    "            print (\"GAME OVER\")\n",
    "        elif player_points >= 20:\n",
    "            print (\"TOTAL PLAYER POINTS =\", player_points)\n",
    "            print (\"TOTAL COMPUTER POINTS =\", computer_points)\n",
    "            print(\"DRAW\")\n",
    "        break\n",
    "    elif player_points >= 20:\n",
    "        if computer_points < 20:\n",
    "            print (\"TOTAL PLAYER POINTS =\", player_points)\n",
    "            print (\"TOTAL COMPUTER POINTS =\", computer_points)\n",
    "            print(\"YOU WIN!\")\n",
    "        elif computer_points >= 20: \n",
    "            print (\"TOTAL PLAYER POINTS =\", player_points)\n",
    "            print (\"TOTAL COMPUTER POINTS =\", computer_points)\n",
    "            print(\"DRAW\")\n",
    "        break"
   ]
  }
 ],
 "metadata": {
  "kernelspec": {
   "display_name": "Python 3",
   "language": "python",
   "name": "python3"
  },
  "language_info": {
   "codemirror_mode": {
    "name": "ipython",
    "version": 3
   },
   "file_extension": ".py",
   "mimetype": "text/x-python",
   "name": "python",
   "nbconvert_exporter": "python",
   "pygments_lexer": "ipython3",
   "version": "3.12.0"
  }
 },
 "nbformat": 4,
 "nbformat_minor": 2
}
